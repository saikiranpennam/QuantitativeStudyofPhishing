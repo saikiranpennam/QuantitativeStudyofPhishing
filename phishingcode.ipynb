{
 "cells": [
  {
   "cell_type": "code",
   "execution_count": null,
   "metadata": {},
   "outputs": [],
   "source": [
    "import pandas as pd\n",
    "\n",
    "# Load the user's CSV file to examine its structure and content\n",
    "file_path = '/mnt/data/phishing.csv'\n",
    "phishing_data = pd.read_csv(file_path)\n",
    "\n",
    "# Display the first few rows to understand the dataset structure\n",
    "phishing_data.head()"
   ]
  }
 ],
 "metadata": {
  "language_info": {
   "name": "python"
  }
 },
 "nbformat": 4,
 "nbformat_minor": 2
}
