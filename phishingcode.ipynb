{
 "cells": [
  {
   "cell_type": "code",
   "execution_count": 19,
   "metadata": {},
   "outputs": [],
   "source": [
    "import pandas as pd\n",
    "from sklearn.model_selection import train_test_split\n",
    "from sklearn.linear_model import LinearRegression\n",
    "from sklearn.metrics import mean_squared_error, r2_score\n",
    "from sklearn.linear_model import LogisticRegression\n",
    "from sklearn.metrics import accuracy_score, confusion_matrix, classification_report, roc_auc_score, roc_curve, precision_recall_curve\n",
    "import matplotlib.pyplot as plt\n",
    "import numpy as np\n",
    "from sklearn.model_selection import train_test_split, cross_val_score\n",
    "\n",
    "\n",
    "# Load the dataset"
   ]
  },
  {
   "cell_type": "code",
   "execution_count": 3,
   "metadata": {},
   "outputs": [
    {
     "data": {
      "text/html": [
       "<div>\n",
       "<style scoped>\n",
       "    .dataframe tbody tr th:only-of-type {\n",
       "        vertical-align: middle;\n",
       "    }\n",
       "\n",
       "    .dataframe tbody tr th {\n",
       "        vertical-align: top;\n",
       "    }\n",
       "\n",
       "    .dataframe thead th {\n",
       "        text-align: right;\n",
       "    }\n",
       "</style>\n",
       "<table border=\"1\" class=\"dataframe\">\n",
       "  <thead>\n",
       "    <tr style=\"text-align: right;\">\n",
       "      <th></th>\n",
       "      <th>_id</th>\n",
       "      <th>assets_downloaded</th>\n",
       "      <th>brands</th>\n",
       "      <th>domain</th>\n",
       "      <th>features.css</th>\n",
       "      <th>features.html</th>\n",
       "      <th>features.text</th>\n",
       "      <th>folder_path</th>\n",
       "      <th>language</th>\n",
       "      <th>protocol</th>\n",
       "      <th>...</th>\n",
       "      <th>security_valid_from</th>\n",
       "      <th>security_valid_to</th>\n",
       "      <th>url</th>\n",
       "      <th>whois_domain_age</th>\n",
       "      <th>whois_raw_text</th>\n",
       "      <th>whois_registrar</th>\n",
       "      <th>whois_registrar_url</th>\n",
       "      <th>whois_registry_created_at</th>\n",
       "      <th>whois_registry_expired_at</th>\n",
       "      <th>whois_registry_updated_at</th>\n",
       "    </tr>\n",
       "  </thead>\n",
       "  <tbody>\n",
       "    <tr>\n",
       "      <th>0</th>\n",
       "      <td>64038b0e2e9df665fc7353ff</td>\n",
       "      <td>0.700000</td>\n",
       "      <td>[\"microsoft\"]</td>\n",
       "      <td>compactdrivesolu.blob.core.windows.net</td>\n",
       "      <td>{\"box-sizing\": [\"inherit\", \"border-box\"], \"mar...</td>\n",
       "      <td>[\"html\", \"head\", \"meta\", \"title\", \"style\", \"li...</td>\n",
       "      <td>\\n Sharing Link Validation\\n \\n Verify Your Id...</td>\n",
       "      <td>phishing/64038b0e2e9df665fc7353ff</td>\n",
       "      <td>en</td>\n",
       "      <td>http/1.1</td>\n",
       "      <td>...</td>\n",
       "      <td>2022-12-23T11:53:59.000Z</td>\n",
       "      <td>2023-12-23T11:53:59.000Z</td>\n",
       "      <td>https://compactdrivesolu.blob.core.windows.net...</td>\n",
       "      <td>10067.0</td>\n",
       "      <td>Domain Name: WINDOWS.NET\\r\\n   Registry Dom...</td>\n",
       "      <td>NaN</td>\n",
       "      <td>http://www.markmonitor.com</td>\n",
       "      <td>1995-08-10T04:00:00.000Z</td>\n",
       "      <td>2023-06-04T16:06:16.000Z</td>\n",
       "      <td>2022-05-09T19:17:07.000Z</td>\n",
       "    </tr>\n",
       "    <tr>\n",
       "      <th>1</th>\n",
       "      <td>640393d7a8281bcf8be471a4</td>\n",
       "      <td>0.857143</td>\n",
       "      <td>[\"microsoft\"]</td>\n",
       "      <td>bafkreifefpvr26zfog4s27pxbtd3tqmtatd34e374cvv4...</td>\n",
       "      <td>{\"margin\": [\"0\"], \"font-family\": [\"Raavi\", \"Mi...</td>\n",
       "      <td>[\"html\", \"head\", \"script\", \"meta\", \"title\", \"m...</td>\n",
       "      <td>\\n Sign in to your account\\n \\n Sign in\\n \\n E...</td>\n",
       "      <td>phishing/640393d7a8281bcf8be471a4</td>\n",
       "      <td>en</td>\n",
       "      <td>h2</td>\n",
       "      <td>...</td>\n",
       "      <td>2023-01-10T17:16:24.000Z</td>\n",
       "      <td>2023-04-10T17:16:23.000Z</td>\n",
       "      <td>https://bafkreifefpvr26zfog4s27pxbtd3tqmtatd34...</td>\n",
       "      <td>2199.0</td>\n",
       "      <td>Domain Name: dweb.link\\r\\nRegistry Domain ID: ...</td>\n",
       "      <td>NaN</td>\n",
       "      <td>www.cscglobal.com</td>\n",
       "      <td>2017-02-24T01:05:26.675Z</td>\n",
       "      <td>2024-02-24T01:05:26.675Z</td>\n",
       "      <td>2023-01-23T21:09:56.296Z</td>\n",
       "    </tr>\n",
       "    <tr>\n",
       "      <th>2</th>\n",
       "      <td>640394d3a8281bcf8be471a8</td>\n",
       "      <td>0.500000</td>\n",
       "      <td>[\"ups\"]</td>\n",
       "      <td>ups-trackid728912.is-certified.com</td>\n",
       "      <td>{\"box-sizing\": [\"border-box\"], \"text-rendering...</td>\n",
       "      <td>[\"html\", \"head\", \"meta\", \"title\", \"meta\", \"met...</td>\n",
       "      <td>\\n Global Shipping &amp; Logistics Services | UPS ...</td>\n",
       "      <td>phishing/640394d3a8281bcf8be471a8</td>\n",
       "      <td>en</td>\n",
       "      <td>http/1.1</td>\n",
       "      <td>...</td>\n",
       "      <td>NaN</td>\n",
       "      <td>NaN</td>\n",
       "      <td>http://ups-trackid728912.is-certified.com/Find...</td>\n",
       "      <td>5901.0</td>\n",
       "      <td>Domain Name: IS-CERTIFIED.COM\\r\\n   Registr...</td>\n",
       "      <td>NaN</td>\n",
       "      <td>http://www.tucows.com</td>\n",
       "      <td>2007-01-04T14:10:49.000Z</td>\n",
       "      <td>2024-01-04T14:10:49.000Z</td>\n",
       "      <td>2022-12-06T06:48:20.000Z</td>\n",
       "    </tr>\n",
       "    <tr>\n",
       "      <th>3</th>\n",
       "      <td>64039cc2a8281bcf8be471b5</td>\n",
       "      <td>1.000000</td>\n",
       "      <td>[\"microsoft\"]</td>\n",
       "      <td>southcoastaletrail.net.au</td>\n",
       "      <td>{\"height\": [\"44px\", \"100%\", \"24px\", \"40px\", \"3...</td>\n",
       "      <td>[\"html\", \"head\", \"meta\", \"title\", \"link\", \"bod...</td>\n",
       "      <td>\\n Sharing Link Validation\\n \\n Onedrive\\n \\n ...</td>\n",
       "      <td>phishing/64039cc2a8281bcf8be471b5</td>\n",
       "      <td>en</td>\n",
       "      <td>h2</td>\n",
       "      <td>...</td>\n",
       "      <td>2022-10-20T00:00:00.000Z</td>\n",
       "      <td>2023-10-30T23:59:59.000Z</td>\n",
       "      <td>https://southcoastaletrail.net.au/original/tec...</td>\n",
       "      <td>NaN</td>\n",
       "      <td>WHOIS LIMIT EXCEEDED\\n</td>\n",
       "      <td>NaN</td>\n",
       "      <td>NaN</td>\n",
       "      <td>NaN</td>\n",
       "      <td>NaN</td>\n",
       "      <td>NaN</td>\n",
       "    </tr>\n",
       "    <tr>\n",
       "      <th>4</th>\n",
       "      <td>6403a15fa8281bcf8be471c4</td>\n",
       "      <td>1.000000</td>\n",
       "      <td>[\"dhl\"]</td>\n",
       "      <td>sksadesign.com</td>\n",
       "      <td>{\"width\": [\"55px\", \"7px\", \"240px\", \"360px\", \"4...</td>\n",
       "      <td>[\"html\", \"head\", \"meta\", \"meta\", \"title\", \"lin...</td>\n",
       "      <td>\\n DHL\\n \\n 專業及可靠的付運服務\\n \\n 客户服务\\n \\n 全天候24小時客...</td>\n",
       "      <td>phishing/6403a15fa8281bcf8be471c4</td>\n",
       "      <td>ko</td>\n",
       "      <td>http/1.1</td>\n",
       "      <td>...</td>\n",
       "      <td>2023-01-16T04:36:30.000Z</td>\n",
       "      <td>2023-04-16T04:36:29.000Z</td>\n",
       "      <td>https://sksadesign.com/@/GlobalSources/</td>\n",
       "      <td>3665.0</td>\n",
       "      <td>Domain Name: SKSADESIGN.COM\\r\\n   Registry ...</td>\n",
       "      <td>NaN</td>\n",
       "      <td>http://www.publicdomainregistry.com</td>\n",
       "      <td>2013-01-17T06:47:49.000Z</td>\n",
       "      <td>2024-01-17T06:47:49.000Z</td>\n",
       "      <td>2022-12-19T06:11:52.000Z</td>\n",
       "    </tr>\n",
       "  </tbody>\n",
       "</table>\n",
       "<p>5 rows × 30 columns</p>\n",
       "</div>"
      ],
      "text/plain": [
       "                        _id  assets_downloaded         brands  \\\n",
       "0  64038b0e2e9df665fc7353ff           0.700000  [\"microsoft\"]   \n",
       "1  640393d7a8281bcf8be471a4           0.857143  [\"microsoft\"]   \n",
       "2  640394d3a8281bcf8be471a8           0.500000        [\"ups\"]   \n",
       "3  64039cc2a8281bcf8be471b5           1.000000  [\"microsoft\"]   \n",
       "4  6403a15fa8281bcf8be471c4           1.000000        [\"dhl\"]   \n",
       "\n",
       "                                              domain  \\\n",
       "0             compactdrivesolu.blob.core.windows.net   \n",
       "1  bafkreifefpvr26zfog4s27pxbtd3tqmtatd34e374cvv4...   \n",
       "2                 ups-trackid728912.is-certified.com   \n",
       "3                          southcoastaletrail.net.au   \n",
       "4                                     sksadesign.com   \n",
       "\n",
       "                                        features.css  \\\n",
       "0  {\"box-sizing\": [\"inherit\", \"border-box\"], \"mar...   \n",
       "1  {\"margin\": [\"0\"], \"font-family\": [\"Raavi\", \"Mi...   \n",
       "2  {\"box-sizing\": [\"border-box\"], \"text-rendering...   \n",
       "3  {\"height\": [\"44px\", \"100%\", \"24px\", \"40px\", \"3...   \n",
       "4  {\"width\": [\"55px\", \"7px\", \"240px\", \"360px\", \"4...   \n",
       "\n",
       "                                       features.html  \\\n",
       "0  [\"html\", \"head\", \"meta\", \"title\", \"style\", \"li...   \n",
       "1  [\"html\", \"head\", \"script\", \"meta\", \"title\", \"m...   \n",
       "2  [\"html\", \"head\", \"meta\", \"title\", \"meta\", \"met...   \n",
       "3  [\"html\", \"head\", \"meta\", \"title\", \"link\", \"bod...   \n",
       "4  [\"html\", \"head\", \"meta\", \"meta\", \"title\", \"lin...   \n",
       "\n",
       "                                       features.text  \\\n",
       "0  \\n Sharing Link Validation\\n \\n Verify Your Id...   \n",
       "1  \\n Sign in to your account\\n \\n Sign in\\n \\n E...   \n",
       "2  \\n Global Shipping & Logistics Services | UPS ...   \n",
       "3  \\n Sharing Link Validation\\n \\n Onedrive\\n \\n ...   \n",
       "4  \\n DHL\\n \\n 專業及可靠的付運服務\\n \\n 客户服务\\n \\n 全天候24小時客...   \n",
       "\n",
       "                         folder_path language  protocol  ...  \\\n",
       "0  phishing/64038b0e2e9df665fc7353ff       en  http/1.1  ...   \n",
       "1  phishing/640393d7a8281bcf8be471a4       en        h2  ...   \n",
       "2  phishing/640394d3a8281bcf8be471a8       en  http/1.1  ...   \n",
       "3  phishing/64039cc2a8281bcf8be471b5       en        h2  ...   \n",
       "4  phishing/6403a15fa8281bcf8be471c4       ko  http/1.1  ...   \n",
       "\n",
       "        security_valid_from         security_valid_to  \\\n",
       "0  2022-12-23T11:53:59.000Z  2023-12-23T11:53:59.000Z   \n",
       "1  2023-01-10T17:16:24.000Z  2023-04-10T17:16:23.000Z   \n",
       "2                       NaN                       NaN   \n",
       "3  2022-10-20T00:00:00.000Z  2023-10-30T23:59:59.000Z   \n",
       "4  2023-01-16T04:36:30.000Z  2023-04-16T04:36:29.000Z   \n",
       "\n",
       "                                                 url whois_domain_age  \\\n",
       "0  https://compactdrivesolu.blob.core.windows.net...          10067.0   \n",
       "1  https://bafkreifefpvr26zfog4s27pxbtd3tqmtatd34...           2199.0   \n",
       "2  http://ups-trackid728912.is-certified.com/Find...           5901.0   \n",
       "3  https://southcoastaletrail.net.au/original/tec...              NaN   \n",
       "4            https://sksadesign.com/@/GlobalSources/           3665.0   \n",
       "\n",
       "                                      whois_raw_text whois_registrar  \\\n",
       "0     Domain Name: WINDOWS.NET\\r\\n   Registry Dom...             NaN   \n",
       "1  Domain Name: dweb.link\\r\\nRegistry Domain ID: ...             NaN   \n",
       "2     Domain Name: IS-CERTIFIED.COM\\r\\n   Registr...             NaN   \n",
       "3                             WHOIS LIMIT EXCEEDED\\n             NaN   \n",
       "4     Domain Name: SKSADESIGN.COM\\r\\n   Registry ...             NaN   \n",
       "\n",
       "                   whois_registrar_url whois_registry_created_at  \\\n",
       "0           http://www.markmonitor.com  1995-08-10T04:00:00.000Z   \n",
       "1                    www.cscglobal.com  2017-02-24T01:05:26.675Z   \n",
       "2                http://www.tucows.com  2007-01-04T14:10:49.000Z   \n",
       "3                                  NaN                       NaN   \n",
       "4  http://www.publicdomainregistry.com  2013-01-17T06:47:49.000Z   \n",
       "\n",
       "  whois_registry_expired_at whois_registry_updated_at  \n",
       "0  2023-06-04T16:06:16.000Z  2022-05-09T19:17:07.000Z  \n",
       "1  2024-02-24T01:05:26.675Z  2023-01-23T21:09:56.296Z  \n",
       "2  2024-01-04T14:10:49.000Z  2022-12-06T06:48:20.000Z  \n",
       "3                       NaN                       NaN  \n",
       "4  2024-01-17T06:47:49.000Z  2022-12-19T06:11:52.000Z  \n",
       "\n",
       "[5 rows x 30 columns]"
      ]
     },
     "execution_count": 3,
     "metadata": {},
     "output_type": "execute_result"
    }
   ],
   "source": [
    "# Load the CSV \n",
    "file_path = 'phishing.csv'\n",
    "phishingData = pd.read_csv(file_path)\n",
    "\n",
    "# Display \n",
    "phishingData.head()"
   ]
  },
  {
   "cell_type": "code",
   "execution_count": 12,
   "metadata": {},
   "outputs": [
    {
     "name": "stdout",
     "output_type": "stream",
     "text": [
      "Index(['_id', 'assets_downloaded', 'brands', 'domain', 'features.css',\n",
      "       'features.html', 'features.text', 'folder_path', 'language', 'protocol',\n",
      "       'remote_ip_address', 'remote_ip_asn', 'remote_ip_country',\n",
      "       'remote_ip_domain', 'remote_ip_isp', 'remote_ip_isp_org', 'scan_date',\n",
      "       'security_issuer', 'security_protocol', 'security_state',\n",
      "       'security_valid_from', 'security_valid_to', 'url', 'whois_domain_age',\n",
      "       'whois_raw_text', 'whois_registrar', 'whois_registrar_url',\n",
      "       'whois_registry_created_at', 'whois_registry_expired_at',\n",
      "       'whois_registry_updated_at'],\n",
      "      dtype='object')\n"
     ]
    }
   ],
   "source": [
    "column_names = phishingData.columns\n",
    "\n",
    "print(column_names) "
   ]
  },
  {
   "cell_type": "code",
   "execution_count": 4,
   "metadata": {},
   "outputs": [
    {
     "name": "stdout",
     "output_type": "stream",
     "text": [
      "Number of rows: 5151\n",
      "Number of columns: 30\n"
     ]
    }
   ],
   "source": [
    "# Display the number of rows and columns in the dataset\n",
    "rows, columns = phishingData.shape\n",
    "print(f\"Number of rows: {rows}\")\n",
    "print(f\"Number of columns: {columns}\")"
   ]
  },
  {
   "cell_type": "markdown",
   "metadata": {},
   "source": [
    "The dataset contains various columns that could potentially be used to derive or analyze phishing detection metrics, response rates, and false positives. Here are a few recommendations based on your metrics:\n",
    "\n",
    "**Detection Rate:**\n",
    "\n",
    "Column: assets_downloaded (as a possible proxy to understand if users interacted with phishing assets).\n",
    "\n",
    "**Response Rate:**\n",
    "\n",
    "Column: protocol and features.text might help categorize user or system responses based on interactions and observed behavior.\n",
    "\n",
    "\n",
    "**False Positive Rate:**\n",
    "\n",
    "Column: domain and features.html to identify discrepancies between expected content and actual content, aiding in false positive analysis.\n",
    "\n",
    "\n",
    "**User Demographics:**\n",
    "\n",
    "Column: This data does not directly include demographics like age or gender. If available in a related dataset, it could be merged for further insights.\n",
    "\n",
    "**Device Type Usage:**\n",
    "\n",
    "Column: protocol and folder_path can sometimes infer the type of device or OS, though this would need additional device-specific columns for accurate determination."
   ]
  },
  {
   "cell_type": "code",
   "execution_count": 6,
   "metadata": {},
   "outputs": [],
   "source": [
    "# TO PREDICT THE DETECTION RATE"
   ]
  },
  {
   "cell_type": "markdown",
   "metadata": {},
   "source": [
    "## TASK 1\n",
    "\n",
    "**Detection Rate**\n",
    "\n",
    "assets_downloaded (as a possible proxy to understand if users interacted with phishing assets). \n",
    "\n",
    "**NOTE**\n",
    "\n",
    "From the dataset i can't find detection column so i set a threshold =  0.5 "
   ]
  },
  {
   "cell_type": "code",
   "execution_count": 16,
   "metadata": {},
   "outputs": [
    {
     "name": "stdout",
     "output_type": "stream",
     "text": [
      "Accuracy: 0.9990300678952473\n",
      "Confusion Matrix:\n",
      " [[327   0]\n",
      " [  1 703]]\n",
      "Classification Report:\n",
      "               precision    recall  f1-score   support\n",
      "\n",
      "           0       1.00      1.00      1.00       327\n",
      "           1       1.00      1.00      1.00       704\n",
      "\n",
      "    accuracy                           1.00      1031\n",
      "   macro avg       1.00      1.00      1.00      1031\n",
      "weighted avg       1.00      1.00      1.00      1031\n",
      "\n"
     ]
    }
   ],
   "source": [
    "# Check for missing values in 'assets_downloaded' column and drop those rows\n",
    "phishing_data = phishingData.dropna(subset=['assets_downloaded'])\n",
    "\n",
    "# Define a threshold to approximate detection\n",
    "threshold = 0.5 \n",
    "phishing_data['Detection'] = phishing_data['assets_downloaded'].apply(lambda x: 1 if x > threshold else 0)\n",
    "\n",
    "# Feature and target variable\n",
    "X = phishing_data[['assets_downloaded']]\n",
    "y = phishing_data['Detection']\n",
    "\n",
    "# Split the data into training and testing sets\n",
    "X_train, X_test, y_train, y_test = train_test_split(X, y, test_size=0.2, random_state=42)\n",
    "\n",
    "# Initialize and train a logistic regression model\n",
    "model = LogisticRegression()\n",
    "model.fit(X_train, y_train)\n",
    "\n",
    "# Predict on the test set\n",
    "y_pred = model.predict(X_test)\n",
    "\n",
    "# Evaluate the model\n",
    "accuracy = accuracy_score(y_test, y_pred)\n",
    "conf_matrix = confusion_matrix(y_test, y_pred)\n",
    "class_report = classification_report(y_test, y_pred)\n",
    "\n",
    "print(\"Accuracy:\", accuracy)\n",
    "print(\"Confusion Matrix:\\n\", conf_matrix)\n",
    "print(\"Classification Report:\\n\", class_report)"
   ]
  },
  {
   "cell_type": "markdown",
   "metadata": {},
   "source": [
    "\n",
    "## TASK 2\n",
    "\n",
    "**Response Rate:**\n",
    "\n",
    "Column: protocol and features.text might help categorize user or system responses based on interactions and observed behavior.\n"
   ]
  },
  {
   "cell_type": "code",
   "execution_count": 21,
   "metadata": {},
   "outputs": [
    {
     "name": "stdout",
     "output_type": "stream",
     "text": [
      "Response Rate: 0.42341292952824694\n"
     ]
    }
   ],
   "source": [
    "# Check for missing values\n",
    "phishing_data = phishingData.dropna(subset=['protocol', 'features.text'])\n",
    "\n",
    "# Define function to categorize response based on `protocol` and `features.text`\n",
    "def categorize_response(row):\n",
    "    # Example condition: Use HTTPS protocol as a proxy for more secure interactions\n",
    "    if \"https\" in row['protocol'].lower():\n",
    "        return 1  # Indicates a positive response\n",
    "    \n",
    "    # Example condition: Check if features.text has interaction keywords\n",
    "    interaction_keywords = [\"login\", \"verify\", \"submit\", \"enter\"]\n",
    "    if any(keyword in row['features.text'].lower() for keyword in interaction_keywords):\n",
    "        return 1  # Indicates a positive response\n",
    "    \n",
    "    # Otherwise, categorize as no response or lower engagement\n",
    "    return 0\n",
    "\n",
    "# Apply the function to create a new 'Response' column\n",
    "phishing_data['Response'] = phishing_data.apply(categorize_response, axis=1)\n",
    "\n",
    "# Calculate response rate as the proportion of positive responses\n",
    "response_rate = phishing_data['Response'].mean()\n",
    "print(\"Response Rate:\", response_rate)"
   ]
  },
  {
   "cell_type": "markdown",
   "metadata": {},
   "source": [
    "**NOTE FROM THE RESULT OBTAINED:**\n",
    " \n",
    "A Response Rate of 0.4234 (or approximately 42.34%) means that, in the dataset used, about 42.34% of the interactions were categorized as having a positive response based on the conditions specified. This implies that for those entries:\n",
    "\n",
    "Users or systems were likely engaging with phishing content (e.g., by attempting to \"login\" or \"verify\").\n",
    "A secure protocol (https) or specific interaction keywords in features.text were detected.\n",
    "This rate gives you an indication of how often users or systems interacted with phishing attempts in a way that could lead to a successful response. If you're evaluating user behavior, this metric might suggest the need for further user awareness or system improvements to detect and prevent phishing interactions."
   ]
  },
  {
   "cell_type": "markdown",
   "metadata": {},
   "source": [
    "## TASK 3\n",
    "\n",
    "**FALSE POSITIVE RATE**\n",
    "\n",
    "Column: domain and features.html to identify discrepancies between expected content and actual content, aiding in false positive analysis."
   ]
  },
  {
   "cell_type": "code",
   "execution_count": 23,
   "metadata": {},
   "outputs": [
    {
     "name": "stdout",
     "output_type": "stream",
     "text": [
      "False Positive Rate: 0.0\n"
     ]
    }
   ],
   "source": [
    "phishing_data = phishingData.dropna(subset=['domain', 'features.html'])\n",
    "\n",
    "# Expanded list of known legitimate domains\n",
    "legitimate_domains = [\n",
    "    \"microsoft.com\", \"google.com\", \"paypal.com\", \"apple.com\", \"amazon.com\",\n",
    "    \"bankofamerica.com\", \"wellsfargo.com\", \"chase.com\", \"linkedin.com\",\n",
    "    \"facebook.com\", \"twitter.com\", \"instagram.com\", \"github.com\"\n",
    "]\n",
    "\n",
    "# Broadened list of phishing indicators\n",
    "phishing_indicators = [\n",
    "    \"password\", \"login\", \"verify\", \"account\", \"secure\", \"enter details\",\n",
    "    \"click here\", \"confirm\", \"update info\", \"urgent\", \"limited access\",\n",
    "    \"recover\", \"suspend\", \"attention required\", \"payment\"\n",
    "]\n",
    "\n",
    "# Define a function to detect false positives\n",
    "def detect_false_positive(row):\n",
    "    # Check if the domain is from a legitimate source\n",
    "    if any(domain in row['domain'] for domain in legitimate_domains):\n",
    "        # Check for phishing indicators in `features.html`\n",
    "        if any(indicator in row['features.html'].lower() for indicator in phishing_indicators):\n",
    "            return 1  # False Positive: legitimate domain with phishing-like content\n",
    "    return 0  # Not a false positive\n",
    "\n",
    "# Apply the function to create a new 'FalsePositive' column\n",
    "phishing_data['FalsePositive'] = phishing_data.apply(detect_false_positive, axis=1)\n",
    "\n",
    "# Calculate the False Positive Rate\n",
    "# False Positive Rate = False Positives / Legitimate Cases\n",
    "total_legitimate_cases = phishing_data['domain'].apply(lambda x: any(domain in x for domain in legitimate_domains)).sum()\n",
    "false_positive_count = phishing_data['FalsePositive'].sum()\n",
    "false_positive_rate = false_positive_count / total_legitimate_cases if total_legitimate_cases > 0 else 0\n",
    "\n",
    "print(\"False Positive Rate:\", false_positive_rate)"
   ]
  },
  {
   "cell_type": "code",
   "execution_count": 25,
   "metadata": {},
   "outputs": [],
   "source": [
    "# Expand legitimate domains to include subdomains\n",
    "def is_legitimate_domain(domain):\n",
    "    return any(legit_domain in domain.lower() for legit_domain in legitimate_domains)\n",
    "\n",
    "# More sophisticated phishing detection\n",
    "def detect_false_positive(row):\n",
    "    # Convert domain to lowercase for case-insensitive matching\n",
    "    domain = row['domain'].lower()\n",
    "    html_content = row['features.html'].lower()\n",
    "    \n",
    "    # Check if it's a legitimate domain (including subdomains)\n",
    "    if is_legitimate_domain(domain):\n",
    "        # Count number of phishing indicators present\n",
    "        indicator_count = sum(1 for indicator in phishing_indicators \n",
    "                            if indicator in html_content)\n",
    "        \n",
    "        # Consider it a false positive if multiple indicators are present\n",
    "        return 1 if indicator_count >= 2 else 0\n",
    "    return 0\n",
    "\n",
    "# Add weights to different indicators\n",
    "weighted_indicators = {\n",
    "    \"password\": 2.0,\n",
    "    \"login\": 1.5,\n",
    "    \"verify\": 1.5,\n",
    "    \"account\": 1.0,\n",
    "    # ... add weights for other indicators\n",
    "}\n",
    "\n",
    "# Calculate confidence score\n",
    "def calculate_phishing_confidence(html_content):\n",
    "    score = 0\n",
    "    html_lower = html_content.lower()\n",
    "    for indicator, weight in weighted_indicators.items():\n",
    "        if indicator in html_lower:\n",
    "            score += weight\n",
    "    return score"
   ]
  },
  {
   "cell_type": "code",
   "execution_count": 26,
   "metadata": {},
   "outputs": [],
   "source": [
    "legitimate_domains.extend([\n",
    "    \"outlook.com\", \"gmail.com\", \"yahoo.com\", \"dropbox.com\",\n",
    "    \"salesforce.com\", \"office365.com\", \"live.com\"\n",
    "])"
   ]
  },
  {
   "cell_type": "code",
   "execution_count": 27,
   "metadata": {},
   "outputs": [],
   "source": [
    "phishing_indicators.extend([\n",
    "    \"unusual url\", \"mismatch domain\", \"security alert\",\n",
    "    \"account blocked\", \"billing update\", \"confirm identity\"\n",
    "])"
   ]
  },
  {
   "cell_type": "code",
   "execution_count": 28,
   "metadata": {},
   "outputs": [
    {
     "name": "stdout",
     "output_type": "stream",
     "text": [
      "Total samples analyzed: 5151\n",
      "Legitimate domains found: 11\n",
      "False positives found: 0\n",
      "Unique domains in dataset: 5082\n"
     ]
    }
   ],
   "source": [
    "# Add validation metrics\n",
    "print(\"Total samples analyzed:\", len(phishing_data))\n",
    "print(\"Legitimate domains found:\", total_legitimate_cases)\n",
    "print(\"False positives found:\", false_positive_count)\n",
    "print(\"Unique domains in dataset:\", phishing_data['domain'].nunique())"
   ]
  },
  {
   "cell_type": "code",
   "execution_count": null,
   "metadata": {},
   "outputs": [],
   "source": []
  },
  {
   "cell_type": "markdown",
   "metadata": {},
   "source": [
    "## ANOTHER APPROACH FOR TASK 1 to 5"
   ]
  },
  {
   "cell_type": "code",
   "execution_count": null,
   "metadata": {},
   "outputs": [],
   "source": []
  },
  {
   "cell_type": "code",
   "execution_count": 40,
   "metadata": {},
   "outputs": [
    {
     "name": "stdout",
     "output_type": "stream",
     "text": [
      "Detection Rate: 82.78%\n",
      "False Positive Rate: 75.00%\n",
      "Device Type Usage:\n",
      "device_type\n",
      "Unknown    100.0\n",
      "Name: proportion, dtype: float64\n"
     ]
    },
    {
     "name": "stderr",
     "output_type": "stream",
     "text": [
      "/var/folders/zm/rn7sz8ds2mv7_2kt1crb12pc0000gn/T/ipykernel_85991/841288773.py:20: SettingWithCopyWarning: \n",
      "A value is trying to be set on a copy of a slice from a DataFrame.\n",
      "Try using .loc[row_indexer,col_indexer] = value instead\n",
      "\n",
      "See the caveats in the documentation: https://pandas.pydata.org/pandas-docs/stable/user_guide/indexing.html#returning-a-view-versus-a-copy\n",
      "  phishing_data['predicted_phishing'] = phishing_data.apply(is_phishing, axis=1)\n",
      "/var/folders/zm/rn7sz8ds2mv7_2kt1crb12pc0000gn/T/ipykernel_85991/841288773.py:30: SettingWithCopyWarning: \n",
      "A value is trying to be set on a copy of a slice from a DataFrame.\n",
      "Try using .loc[row_indexer,col_indexer] = value instead\n",
      "\n",
      "See the caveats in the documentation: https://pandas.pydata.org/pandas-docs/stable/user_guide/indexing.html#returning-a-view-versus-a-copy\n",
      "  phishing_data['legitimate_domain'] = phishing_data['domain'].apply(\n",
      "/var/folders/zm/rn7sz8ds2mv7_2kt1crb12pc0000gn/T/ipykernel_85991/841288773.py:45: SettingWithCopyWarning: \n",
      "A value is trying to be set on a copy of a slice from a DataFrame.\n",
      "Try using .loc[row_indexer,col_indexer] = value instead\n",
      "\n",
      "See the caveats in the documentation: https://pandas.pydata.org/pandas-docs/stable/user_guide/indexing.html#returning-a-view-versus-a-copy\n",
      "  phishing_data['device_type'] = phishing_data['folder_path'].apply(device_type)\n"
     ]
    }
   ],
   "source": [
    "\n",
    "phishing_data = phishingData.dropna(subset=['security_state', 'whois_domain_age', 'features.html', 'domain'])\n",
    "\n",
    "# Define detection logic for phishing (simple heuristic)\n",
    "def is_phishing(row):\n",
    "    # Based on SSL validity, domain age, and suspicious keywords in `features.html`\n",
    "    expired_cert = (\n",
    "        pd.notna(row['security_valid_to']) and\n",
    "        pd.to_datetime(row['security_valid_to']).tz_localize(None) < datetime.now()\n",
    "    )\n",
    "    domain_age_suspicious = pd.notna(row['whois_domain_age']) and float(row['whois_domain_age']) < 90\n",
    "    has_suspicious_content = any(\n",
    "        keyword in row['features.html'].lower()\n",
    "        for keyword in [\"password\", \"login\", \"verify\", \"account\", \"urgent\", \"suspended\"]\n",
    "    )\n",
    "    \n",
    "    # Classify as phishing if expired certificate, suspicious domain age, or suspicious content is found\n",
    "    return int(expired_cert or domain_age_suspicious or has_suspicious_content)\n",
    "\n",
    "# Apply phishing detection heuristic\n",
    "phishing_data['predicted_phishing'] = phishing_data.apply(is_phishing, axis=1)\n",
    "\n",
    "# Calculate Detection Rate\n",
    "detection_rate = phishing_data['predicted_phishing'].mean() * 100\n",
    "print(f\"Detection Rate: {detection_rate:.2f}%\")\n",
    "\n",
    "# Define legitimate domains for False Positive analysis\n",
    "legitimate_domains = [\"microsoft.com\", \"google.com\", \"apple.com\", \"amazon.com\", \"paypal.com\"]\n",
    "\n",
    "# False Positive calculation\n",
    "phishing_data['legitimate_domain'] = phishing_data['domain'].apply(\n",
    "    lambda x: any(ld in x for ld in legitimate_domains)\n",
    ")\n",
    "false_positives = phishing_data[(phishing_data['legitimate_domain'] == True) & (phishing_data['predicted_phishing'] == 1)]\n",
    "false_positive_rate = len(false_positives) / phishing_data['legitimate_domain'].sum() * 100\n",
    "print(f\"False Positive Rate: {false_positive_rate:.2f}%\")\n",
    "\n",
    "# Device Type Approximation (if possible)\n",
    "def device_type(folder_path):\n",
    "    if any(mobile in folder_path.lower() for mobile in [\"mobile\", \"android\", \"ios\"]):\n",
    "        return \"Mobile\"\n",
    "    elif any(desktop in folder_path.lower() for desktop in [\"desktop\", \"windows\", \"mac\"]):\n",
    "        return \"Desktop\"\n",
    "    return \"Unknown\"\n",
    "\n",
    "phishing_data['device_type'] = phishing_data['folder_path'].apply(device_type)\n",
    "device_usage = phishing_data['device_type'].value_counts(normalize=True) * 100\n",
    "print(\"Device Type Usage:\")\n",
    "print(device_usage)\n"
   ]
  },
  {
   "cell_type": "code",
   "execution_count": 49,
   "metadata": {},
   "outputs": [
    {
     "name": "stderr",
     "output_type": "stream",
     "text": [
      "/var/folders/zm/rn7sz8ds2mv7_2kt1crb12pc0000gn/T/ipykernel_85991/627872709.py:21: SettingWithCopyWarning: \n",
      "A value is trying to be set on a copy of a slice from a DataFrame.\n",
      "Try using .loc[row_indexer,col_indexer] = value instead\n",
      "\n",
      "See the caveats in the documentation: https://pandas.pydata.org/pandas-docs/stable/user_guide/indexing.html#returning-a-view-versus-a-copy\n",
      "  phishing_data['predicted_phishing'] = phishing_data.apply(is_phishing, axis=1)\n",
      "/var/folders/zm/rn7sz8ds2mv7_2kt1crb12pc0000gn/T/ipykernel_85991/627872709.py:30: SettingWithCopyWarning: \n",
      "A value is trying to be set on a copy of a slice from a DataFrame.\n",
      "Try using .loc[row_indexer,col_indexer] = value instead\n",
      "\n",
      "See the caveats in the documentation: https://pandas.pydata.org/pandas-docs/stable/user_guide/indexing.html#returning-a-view-versus-a-copy\n",
      "  phishing_data['legitimate_domain'] = phishing_data['domain'].apply(\n"
     ]
    },
    {
     "data": {
      "image/png": "[encoded data removed]",
      "text/plain": [
       "<Figure size 1000x600 with 1 Axes>"
      ]
     },
     "metadata": {},
     "output_type": "display_data"
    }
   ],
   "source": [
    "# Clean data, drop rows with missing key columns\n",
    "phishing_data = phishingData.dropna(subset=['security_state', 'whois_domain_age', 'features.html', 'domain'])\n",
    "\n",
    "# Define detection logic for phishing (simple heuristic)\n",
    "def is_phishing(row):\n",
    "    # Based on SSL validity, domain age, and suspicious keywords in `features.html`\n",
    "    expired_cert = (\n",
    "        pd.notna(row['security_valid_to']) and\n",
    "        pd.to_datetime(row['security_valid_to']).tz_localize(None) < datetime.now()\n",
    "    )\n",
    "    domain_age_suspicious = pd.notna(row['whois_domain_age']) and float(row['whois_domain_age']) < 90\n",
    "    has_suspicious_content = any(\n",
    "        keyword in row['features.html'].lower()\n",
    "        for keyword in [\"password\", \"login\", \"verify\", \"account\", \"urgent\", \"suspended\"]\n",
    "    )\n",
    "    \n",
    "    # Classify as phishing if expired certificate, suspicious domain age, or suspicious content is found\n",
    "    return int(expired_cert or domain_age_suspicious or has_suspicious_content)\n",
    "\n",
    "# Apply phishing detection heuristic\n",
    "phishing_data['predicted_phishing'] = phishing_data.apply(is_phishing, axis=1)\n",
    "\n",
    "# Calculate Detection Rate\n",
    "detection_rate = phishing_data['predicted_phishing'].mean() * 100\n",
    "\n",
    "# Define legitimate domains for False Positive analysis\n",
    "legitimate_domains = [\"microsoft.com\", \"google.com\", \"apple.com\", \"amazon.com\", \"paypal.com\"]\n",
    "\n",
    "# False Positive calculation\n",
    "phishing_data['legitimate_domain'] = phishing_data['domain'].apply(\n",
    "    lambda x: any(ld in x for ld in legitimate_domains)\n",
    ")\n",
    "false_positives = phishing_data[(phishing_data['legitimate_domain'] == True) & (phishing_data['predicted_phishing'] == 1)]\n",
    "false_positive_rate = len(false_positives) / phishing_data['legitimate_domain'].sum() * 100\n",
    "\n",
    "# Plot Detection Rate and False Positive Rate\n",
    "plt.figure(figsize=(10, 6))\n",
    "rates = pd.Series([detection_rate, false_positive_rate], index=[\"Detection Rate\", \"False Positive Rate\"])\n",
    "rates.plot(kind='bar', color=['skyblue', 'salmon'], edgecolor='black')\n",
    "plt.title(\"Detection Rate and False Positive Rate\")\n",
    "plt.xlabel(\"Metric\")\n",
    "plt.ylabel(\"Percentage (%)\")\n",
    "plt.xticks(rotation=0)\n",
    "plt.show()\n"
   ]
  },
  {
   "cell_type": "code",
   "execution_count": null,
   "metadata": {},
   "outputs": [],
   "source": []
  },
  {
   "cell_type": "code",
   "execution_count": 46,
   "metadata": {},
   "outputs": [
    {
     "name": "stdout",
     "output_type": "stream",
     "text": [
      "Proxy Response Rate: 18.78%\n"
     ]
    },
    {
     "name": "stderr",
     "output_type": "stream",
     "text": [
      "/var/folders/zm/rn7sz8ds2mv7_2kt1crb12pc0000gn/T/ipykernel_85991/2488504907.py:18: SettingWithCopyWarning: \n",
      "A value is trying to be set on a copy of a slice from a DataFrame.\n",
      "Try using .loc[row_indexer,col_indexer] = value instead\n",
      "\n",
      "See the caveats in the documentation: https://pandas.pydata.org/pandas-docs/stable/user_guide/indexing.html#returning-a-view-versus-a-copy\n",
      "  phishing_data['response_action'] = phishing_data.apply(infer_response, axis=1)\n"
     ]
    }
   ],
   "source": [
    "phishing_data = phishingData.dropna(subset=['protocol', 'whois_domain_age'])\n",
    "\n",
    "# Define a threshold for suspicious domain age (e.g., less than 90 days)\n",
    "suspicious_domain_age_threshold = 90\n",
    "\n",
    "# Define a function to approximate response based on protocol and domain age\n",
    "def infer_response(row):\n",
    "    # Check if protocol is insecure (http)\n",
    "    insecure_protocol = row['protocol'].lower() == 'http'\n",
    "    \n",
    "    # Check if domain age is suspiciously low\n",
    "    suspicious_domain_age = pd.notna(row['whois_domain_age']) and float(row['whois_domain_age']) < suspicious_domain_age_threshold\n",
    "    \n",
    "    # Assume a \"correct response\" if either condition indicates potential phishing risk\n",
    "    return int(insecure_protocol or suspicious_domain_age)\n",
    "\n",
    "# Apply the function to create a 'response_action' column\n",
    "phishing_data['response_action'] = phishing_data.apply(infer_response, axis=1)\n",
    "\n",
    "# Calculate Proxy Response Rate\n",
    "response_rate = phishing_data['response_action'].mean() * 100\n",
    "print(f\"Proxy Response Rate: {response_rate:.2f}%\")"
   ]
  },
  {
   "cell_type": "code",
   "execution_count": 48,
   "metadata": {},
   "outputs": [
    {
     "name": "stderr",
     "output_type": "stream",
     "text": [
      "/var/folders/zm/rn7sz8ds2mv7_2kt1crb12pc0000gn/T/ipykernel_85991/3385529634.py:18: SettingWithCopyWarning: \n",
      "A value is trying to be set on a copy of a slice from a DataFrame.\n",
      "Try using .loc[row_indexer,col_indexer] = value instead\n",
      "\n",
      "See the caveats in the documentation: https://pandas.pydata.org/pandas-docs/stable/user_guide/indexing.html#returning-a-view-versus-a-copy\n",
      "  phishing_data['response_action'] = phishing_data.apply(infer_response, axis=1)\n"
     ]
    },
    {
     "data": {
      "image/png": "[encoded data removed]",
      "text/plain": [
       "<Figure size 800x600 with 1 Axes>"
      ]
     },
     "metadata": {},
     "output_type": "display_data"
    }
   ],
   "source": [
    "phishing_data = phishingData.dropna(subset=['protocol', 'whois_domain_age'])\n",
    "\n",
    "# Define a threshold for suspicious domain age (e.g., less than 90 days)\n",
    "suspicious_domain_age_threshold = 90\n",
    "\n",
    "# Define a function to approximate response based on protocol and domain age\n",
    "def infer_response(row):\n",
    "    # Check if protocol is insecure (http)\n",
    "    insecure_protocol = row['protocol'].lower() == 'http'\n",
    "    \n",
    "    # Check if domain age is suspiciously low\n",
    "    suspicious_domain_age = pd.notna(row['whois_domain_age']) and float(row['whois_domain_age']) < suspicious_domain_age_threshold\n",
    "    \n",
    "    # Assume a \"correct response\" if either condition indicates potential phishing risk\n",
    "    return int(insecure_protocol or suspicious_domain_age)\n",
    "\n",
    "# Apply the function to create a 'response_action' column\n",
    "phishing_data['response_action'] = phishing_data.apply(infer_response, axis=1)\n",
    "\n",
    "# Verify that 'response_action' column is created\n",
    "if 'response_action' in phishing_data.columns:\n",
    "    # Calculate Proxy Response Rate\n",
    "    proxy_response_rate = phishing_data['response_action'].value_counts(normalize=True) * 100\n",
    "\n",
    "    # Plot Proxy Response Rate\n",
    "    plt.figure(figsize=(8, 6))\n",
    "    proxy_response_rate.plot(kind='bar', color='salmon', edgecolor='black')\n",
    "    plt.title(\"Proxy Response Rate\")\n",
    "    plt.xlabel(\"Response Action (0 = No Correct Action, 1 = Correct Action)\")\n",
    "    plt.ylabel(\"Percentage (%)\")\n",
    "    plt.xticks(rotation=0)\n",
    "    plt.show()\n",
    "else:\n",
    "    print(\"Error: 'response_action' column not created.\")\n"
   ]
  },
  {
   "cell_type": "code",
   "execution_count": null,
   "metadata": {},
   "outputs": [],
   "source": []
  },
  {
   "cell_type": "markdown",
   "metadata": {},
   "source": [
    "## Device Type Usage: Proportion of mobile vs. desktop interactions."
   ]
  },
  {
   "cell_type": "code",
   "execution_count": 44,
   "metadata": {},
   "outputs": [
    {
     "name": "stdout",
     "output_type": "stream",
     "text": [
      "Device Type Usage:\n",
      "device_type\n",
      "Unknown    91.341487\n",
      "Mobile      6.950107\n",
      "Desktop     1.708406\n",
      "Name: proportion, dtype: float64\n"
     ]
    },
    {
     "data": {
      "image/png": "[encoded data removed]",
      "text/plain": [
       "<Figure size 800x600 with 1 Axes>"
      ]
     },
     "metadata": {},
     "output_type": "display_data"
    }
   ],
   "source": [
    "phishing_data = phishingData.dropna(subset=['domain'])\n",
    "\n",
    "# Define keywords for mobile and desktop based on common patterns\n",
    "mobile_indicators = [\"m.\", \"/mobile\", \"android\", \"ios\"]\n",
    "desktop_indicators = [\"desktop\", \"windows\", \"mac\"]\n",
    "\n",
    "# Define a function to classify device type based on URL pattern\n",
    "def classify_device_type(domain):\n",
    "    domain = domain.lower()\n",
    "    if any(keyword in domain for keyword in mobile_indicators):\n",
    "        return \"Mobile\"\n",
    "    elif any(keyword in domain for keyword in desktop_indicators):\n",
    "        return \"Desktop\"\n",
    "    return \"Unknown\"\n",
    "\n",
    "# Apply function to classify device type\n",
    "phishing_data['device_type'] = phishing_data['domain'].apply(classify_device_type)\n",
    "\n",
    "# Calculate Device Type Usage\n",
    "device_type_usage = phishing_data['device_type'].value_counts(normalize=True) * 100\n",
    "print(\"Device Type Usage:\")\n",
    "print(device_type_usage)\n",
    "\n",
    "\n",
    "# Plot Device Type Usage\n",
    "plt.figure(figsize=(8, 6))\n",
    "device_type_usage.plot(kind='bar', color='skyblue', edgecolor='black')\n",
    "plt.title(\"Device Type Usage: Proportion of Mobile vs. Desktop Interactions\")\n",
    "plt.xlabel(\"Device Type\")\n",
    "plt.ylabel(\"Percentage (%)\")\n",
    "plt.xticks(rotation=0)\n",
    "plt.show()"
   ]
  },
  {
   "cell_type": "code",
   "execution_count": null,
   "metadata": {},
   "outputs": [],
   "source": []
  }
 ],
 "metadata": {
  "kernelspec": {
   "display_name": "torch_env",
   "language": "python",
   "name": "python3"
  },
  "language_info": {
   "codemirror_mode": {
    "name": "ipython",
    "version": 3
   },
   "file_extension": ".py",
   "mimetype": "text/x-python",
   "name": "python",
   "nbconvert_exporter": "python",
   "pygments_lexer": "ipython3",
   "version": "3.9.18"
  }
 },
 "nbformat": 4,
 "nbformat_minor": 2
}
